{
  "nbformat": 4,
  "nbformat_minor": 0,
  "metadata": {
    "colab": {
      "provenance": [],
      "include_colab_link": true
    },
    "kernelspec": {
      "name": "python3",
      "display_name": "Python 3"
    },
    "language_info": {
      "name": "python"
    }
  },
  "cells": [
    {
      "cell_type": "markdown",
      "metadata": {
        "id": "view-in-github",
        "colab_type": "text"
      },
      "source": [
        "<a href=\"https://colab.research.google.com/github/BumaranChe/Simple-Time-Series-Forecasting-Using-RNN/blob/main/Simple_RNN_for_time_series_forcasting(temp)_Bumaran_(GitHub).ipynb\" target=\"_parent\"><img src=\"https://colab.research.google.com/assets/colab-badge.svg\" alt=\"Open In Colab\"/></a>"
      ]
    },
    {
      "cell_type": "markdown",
      "source": [
        "#Import Library"
      ],
      "metadata": {
        "id": "P-ZKfFBpG_h5"
      }
    },
    {
      "cell_type": "code",
      "execution_count": null,
      "metadata": {
        "id": "P01vAjcmG2vN"
      },
      "outputs": [],
      "source": [
        "import os\n",
        "os.environ[\"TF_DETERMINISTIC_OPS\"]=\"1\"\n",
        "os.environ[\"CUDA_VISIBLE_DEVICES\"]=\"-1\"\n",
        "import numpy as np\n",
        "import pandas as pd\n",
        "import matplotlib.pyplot as plt\n",
        "import tensorflow as tf\n",
        "import random\n",
        "from sklearn.preprocessing import MinMaxScaler\n",
        "from tensorflow.keras import Sequential#T o deal with sequential data\n",
        "from tensorflow.keras.layers import SimpleRNN, Dense\n",
        "from sklearn.model_selection import train_test_split"
      ]
    },
    {
      "cell_type": "markdown",
      "source": [
        "#Create a simple dummy time series data"
      ],
      "metadata": {
        "id": "jQGF7AKiHbPE"
      }
    },
    {
      "cell_type": "code",
      "source": [
        "random.seed(42)\n",
        "np.random.seed(42)\n",
        "tf.random.set_seed(42)\n",
        "days = np.arange(400) # 400 points/days\n",
        "temp = 28 + 3*np.sin(2*np.pi*days/30) # base signal\n",
        "temp += 0.8*np.random.randn(len(days)) # noise\n",
        "df = pd.DataFrame({\"day\": days, \"temp\": temp}) # data frame\n",
        "\n",
        "print(\"Normal DF (head):\")\n",
        "print(df.head()) # print data frame"
      ],
      "metadata": {
        "colab": {
          "base_uri": "https://localhost:8080/"
        },
        "id": "LCwA0N7bq_Vv",
        "outputId": "695ebb3a-0e2a-4c8f-87e6-f87aaeb23999"
      },
      "execution_count": null,
      "outputs": [
        {
          "output_type": "stream",
          "name": "stdout",
          "text": [
            "Normal DF (head):\n",
            "   day       temp\n",
            "0    0  28.397371\n",
            "1    1  28.513124\n",
            "2    2  29.738361\n",
            "3    3  30.981780\n",
            "4    4  30.042112\n"
          ]
        }
      ]
    },
    {
      "cell_type": "code",
      "source": [
        "temp"
      ],
      "metadata": {
        "colab": {
          "base_uri": "https://localhost:8080/"
        },
        "id": "5Z01_eztwHT6",
        "outputId": "d33df8a1-9439-4c35-babd-83cb49c0e979"
      },
      "execution_count": null,
      "outputs": [
        {
          "output_type": "execute_result",
          "data": {
            "text/plain": [
              "array([28.39737132, 28.51312363, 29.73836076, 30.98177964, 30.04211178,\n",
              "       30.41076665, 32.1165398 , 31.59751347, 30.60798618, 31.28721758,\n",
              "       30.22734206, 29.85685067, 29.95692557, 27.68958573, 27.24380081,\n",
              "       27.55016998, 26.56600003, 27.03118794, 25.51022498, 24.64072256,\n",
              "       26.5744428 , 24.96620941, 25.07045688, 23.87663576, 24.71132427,\n",
              "       25.49066186, 24.84977066, 26.53720266, 26.29927912, 27.14290993,\n",
              "       27.51863471, 30.10555762, 29.20941215, 28.91718701, 30.88747041,\n",
              "       29.62140129, 31.02026042, 29.41582959, 29.92101685, 31.01065854,\n",
              "       31.18884948, 30.3665291 , 29.67083713, 28.97932697, 27.44091748,\n",
              "       27.42412463, 27.00775391, 27.62548785, 26.51153887, 24.3601334 ,\n",
              "       25.66119096, 24.83876463, 24.47489671, 25.50577534, 25.97163007,\n",
              "       26.14694788, 25.0991915 , 25.98927434, 27.04480082, 28.15670103,\n",
              "       27.61666061, 28.47520789, 28.33514195, 28.80639046, 30.87945513,\n",
              "       31.68306823, 30.79556145, 31.786392  , 31.27287451, 30.33707375,\n",
              "       30.8871927 , 31.45986373, 29.73469493, 30.47192485, 26.52793899,\n",
              "       28.657522  , 27.44590258, 26.54058419, 26.31005286, 24.18051039,\n",
              "       25.22618628, 25.43252051, 26.19874955, 24.60181814, 24.50003557,\n",
              "       25.00051815, 26.50288722, 26.49964513, 26.35598191, 27.78687887,\n",
              "       28.07766204, 29.39865106, 28.65856745, 29.50122604, 29.91574795,\n",
              "       29.42726425, 31.09006577, 31.1924099 , 30.98765645, 30.66549984,\n",
              "       29.46577962, 29.89291822, 29.48918414, 28.57838811, 28.4947065 ,\n",
              "       28.32324069, 28.88521365, 26.91945232, 26.44268456, 25.71100879,\n",
              "       23.86690682, 25.12561935, 25.06461848, 26.987028  , 24.99294168,\n",
              "       25.64316166, 25.74279611, 25.30170181, 27.69404832, 27.97781135,\n",
              "       28.63282556, 27.89622511, 30.34244538, 28.64187491, 30.69892015,\n",
              "       32.35044071, 30.06074049, 30.5305275 , 31.06328678, 30.45038903,\n",
              "       29.35754547, 30.28428486, 28.91351279, 29.59908387, 27.88819569,\n",
              "       29.23994752, 26.74966229, 26.52214086, 26.88745802, 24.78587407,\n",
              "       25.58389174, 26.19254465, 23.73044773, 25.1641414 , 25.35473669,\n",
              "       26.02738209, 24.78100495, 25.18027895, 27.19734332, 27.61385267,\n",
              "       28.20039428, 28.90089364, 28.67619015, 29.94915871, 30.46389246,\n",
              "       30.02659508, 32.34578916, 31.36263202, 30.03052289, 31.37841244,\n",
              "       29.81833088, 30.85910216, 30.69023222, 28.56366407, 29.39443598,\n",
              "       28.33022474, 28.03391306, 28.29722446, 26.04033375, 25.16757659,\n",
              "       24.69031224, 24.49418222, 24.95475295, 25.28935589, 25.36818309,\n",
              "       26.06367039, 25.78096704, 27.3994715 , 26.5680646 , 29.55240026,\n",
              "       28.50053388, 27.93800903, 28.36349593, 30.14933369, 30.05066425,\n",
              "       31.16927661, 31.23175965, 30.92530256, 30.30613071, 29.64129177,\n",
              "       30.24086425, 30.91455351, 29.93463075, 28.22361891, 28.76227981,\n",
              "       28.3082539 , 26.66917898, 26.90277016, 26.28321122, 24.85618929,\n",
              "       25.68815368, 25.59545807, 25.88287531, 25.85947596, 24.04469496,\n",
              "       24.65166376, 26.18259374, 26.647673  , 27.19182822, 30.45845012,\n",
              "       28.45671241, 29.53218758, 29.98341134, 30.28446876, 29.97721908,\n",
              "       31.20525159, 30.23490938, 30.7941108 , 30.59527485, 30.91866886,\n",
              "       32.44980306, 28.73562232, 30.31236391, 27.93003723, 28.24618958,\n",
              "       28.87116048, 27.42768894, 25.91759425, 25.66440128, 26.31424372,\n",
              "       24.81763048, 25.31999732, 25.05289179, 24.49515404, 26.86198572,\n",
              "       25.90905901, 24.15045145, 26.38580769, 26.2503609 , 28.0582116 ,\n",
              "       27.36598341, 28.53194592, 29.62419975, 30.45595991, 29.26919735,\n",
              "       30.33047522, 30.4732133 , 30.4609023 , 32.39592908, 31.17715492,\n",
              "       29.58936905, 30.96372403, 31.46108071, 30.04618214, 27.4082391 ,\n",
              "       27.61261274, 28.38979385, 26.2136545 , 26.59169979, 26.39027277,\n",
              "       24.66037941, 25.09921017, 22.42342044, 24.1969242 , 24.94477593,\n",
              "       24.40369724, 27.07649457, 25.09253114, 26.42775448, 27.48085739,\n",
              "       29.15301863, 27.47504535, 30.15074093, 29.77154221, 29.44422756,\n",
              "       30.96775899, 31.01241731, 30.50339218, 31.03940735, 30.54491867,\n",
              "       30.68889009, 30.75913902, 31.03216921, 28.22995753, 30.33016177,\n",
              "       26.43832976, 27.25483685, 27.25044384, 26.46143774, 25.27240591,\n",
              "       25.23542599, 24.7524297 , 24.54494251, 25.69611599, 25.43244284,\n",
              "       24.84759611, 26.49024542, 26.48248386, 27.43007977, 27.879968  ,\n",
              "       27.33680399, 28.17559024, 29.81804481, 30.25165197, 30.2127132 ,\n",
              "       30.69193812, 31.87530147, 30.51030858, 31.42124359, 30.69141543,\n",
              "       30.42393125, 31.10845596, 30.42368884, 29.87101764, 29.66811812,\n",
              "       28.01680307, 27.9218273 , 26.53157667, 26.49597733, 25.66645108,\n",
              "       25.47952056, 25.62295607, 24.36185777, 26.69034413, 24.34201655,\n",
              "       24.4305729 , 26.69705422, 26.8699744 , 27.27908592, 27.87894133,\n",
              "       27.99020258, 27.90593158, 29.28085358, 29.22162639, 31.00953026,\n",
              "       30.48043031, 30.19277179, 30.72645701, 31.31391085, 30.40218991,\n",
              "       29.94029989, 30.42438425, 29.95932901, 28.81465539, 28.24690443,\n",
              "       28.18563995, 26.21779745, 25.65381905, 25.66188887, 25.5998078 ,\n",
              "       25.65064984, 26.32711542, 25.70256201, 24.88848349, 25.13161748,\n",
              "       24.5999003 , 25.75575501, 26.00571733, 27.03796492, 26.71448017,\n",
              "       28.41547721, 29.8499262 , 29.13320181, 30.08472513, 30.78154967,\n",
              "       30.27709983, 31.03244353, 30.99363961, 31.06170656, 30.23476172,\n",
              "       30.61768435, 30.62783311, 30.92427064, 29.98762659, 30.34628104,\n",
              "       27.38612195, 28.07412144, 26.92646368, 27.98848659, 25.1239269 ,\n",
              "       24.73014631, 24.66731633, 23.31731773, 24.5958303 , 24.53952432,\n",
              "       25.52223882, 26.0439703 , 27.73758091, 27.54012914, 26.914742  ,\n",
              "       27.28126826, 29.01727041, 28.16402336, 31.22852277, 31.17298657,\n",
              "       30.22273569, 29.48266193, 32.06666359, 30.89193381, 31.8434226 ])"
            ]
          },
          "metadata": {},
          "execution_count": 224
        }
      ]
    },
    {
      "cell_type": "markdown",
      "source": [
        "# Double confirm whether its 1D array or 2D array"
      ],
      "metadata": {
        "id": "H4QGDCRVUeLq"
      }
    },
    {
      "cell_type": "code",
      "source": [
        "print(days.shape)"
      ],
      "metadata": {
        "colab": {
          "base_uri": "https://localhost:8080/"
        },
        "id": "yOo_6Boeup35",
        "outputId": "a5c7075c-3a87-4c07-d0a3-b12c99c4fb42"
      },
      "execution_count": null,
      "outputs": [
        {
          "output_type": "stream",
          "name": "stdout",
          "text": [
            "(400,)\n"
          ]
        }
      ]
    },
    {
      "cell_type": "code",
      "source": [
        "print(temp.shape)"
      ],
      "metadata": {
        "colab": {
          "base_uri": "https://localhost:8080/"
        },
        "id": "zg7LQVT4uZ_B",
        "outputId": "5df15af9-13db-46d0-f9c2-752a5e20001e"
      },
      "execution_count": null,
      "outputs": [
        {
          "output_type": "stream",
          "name": "stdout",
          "text": [
            "(400,)\n"
          ]
        }
      ]
    },
    {
      "cell_type": "code",
      "source": [
        "print(df.shape) # size of the data frame\n",
        "print(df.ndim) # number of dimension (coloumns + rows)"
      ],
      "metadata": {
        "colab": {
          "base_uri": "https://localhost:8080/"
        },
        "id": "3dZANwbuTuCO",
        "outputId": "68a9d0ac-c59f-432e-ed0f-9f13d7328663"
      },
      "execution_count": null,
      "outputs": [
        {
          "output_type": "stream",
          "name": "stdout",
          "text": [
            "(400, 2)\n",
            "2\n"
          ]
        }
      ]
    },
    {
      "cell_type": "markdown",
      "source": [
        "df is 2D array"
      ],
      "metadata": {
        "id": "YAsME5mNuxjZ"
      }
    },
    {
      "cell_type": "markdown",
      "source": [
        "#Plot the time series data"
      ],
      "metadata": {
        "id": "rSeFngWWHmlY"
      }
    },
    {
      "cell_type": "code",
      "source": [
        "plt.figure(figsize=(12,5))\n",
        "plt.plot(days,temp,label = \"Synthetic Signal with Noise\",linewidth = 1)\n",
        "plt.title(\"Synthetic Time Series (Sinusoidal + Noise)\", fontsize=14)\n",
        "plt.xlabel(\"Days (d)\")\n",
        "plt.ylabel(\"Temperature (°C)\")\n",
        "plt.legend()\n",
        "plt.grid(True)\n",
        "plt.show()"
      ],
      "metadata": {
        "colab": {
          "base_uri": "https://localhost:8080/",
          "height": 488
        },
        "id": "IB6UX4_oHo17",
        "outputId": "db0ec4d4-6312-404d-fa73-f542d2ed5c7e"
      },
      "execution_count": null,
      "outputs": [
        {
          "output_type": "display_data",
          "data": {
            "text/plain": [
              "<Figure size 1200x500 with 1 Axes>"
            ],
            "image/png": "[encoded data removed]"
          },
          "metadata": {}
        }
      ]
    },
    {
      "cell_type": "markdown",
      "source": [
        "#Before we use this data , we need to scale it to 0-1 to help on the training and also remove bias in the data\n"
      ],
      "metadata": {
        "id": "tVgV1LahH3G-"
      }
    },
    {
      "cell_type": "markdown",
      "source": [
        "* Once the data is scaled , it will work better when input are in a small and consistent range. 0 - 1 .\n",
        "* Prevent large values from dominating gradient updates . (Bias).\n",
        "\n",
        "##Example\n",
        "Suppose your raw series ranges from -3.5 to +4.2.\n",
        "* -3.5 -> 0\n",
        "* 4.2 -> 1\n",
        "* Everything else -> Propotionally between 0 - 1"
      ],
      "metadata": {
        "id": "RtrdII5bIB78"
      }
    },
    {
      "cell_type": "code",
      "source": [
        "scaler = MinMaxScaler()\n",
        "temp_scaled = scaler.fit_transform(df[['temp']].values) # we only select one column which is temp (400,1)\n",
        "#converts your 1D array into a 2D column vector because scikit-learn expects input as (n_samples, n_features).\n",
        "#fit_transform() learns the min and max of your data, then transforms each value.\n",
        "#flatten() -> makes it 1D again so you can work with it like your original series."
      ],
      "metadata": {
        "id": "D1mlSz_iIP69"
      },
      "execution_count": null,
      "outputs": []
    },
    {
      "cell_type": "markdown",
      "source": [
        "#By now you should know that , RNN gets the input data in sequence .\n",
        "\n",
        "* In this case we need to convert the continous series into (input-> output) sequence.\n",
        "\n",
        "* Since its a supervised, we need to tune the data in a way that it shows the input sequence and the required output based on the sequential data.\n",
        "\n",
        "* Normally this is done for timeseries or sequential data."
      ],
      "metadata": {
        "id": "qylnRwDKI5Uy"
      }
    },
    {
      "cell_type": "markdown",
      "source": [
        "If series = [10, 20, 30, 40, 50] and window=3:\n",
        "\n",
        "Iteration 0:\n",
        "\n",
        "X[0] = [10, 20, 30]\n",
        "\n",
        "y[0] = 40\n",
        "\n",
        "Iteration 1:\n",
        "\n",
        "X[1] = [20, 30, 40]\n",
        "\n",
        "y[1] = 50"
      ],
      "metadata": {
        "id": "VKxYejkCJKQR"
      }
    },
    {
      "cell_type": "code",
      "source": [
        "#arr -> your time series data (already scaled usually).\n",
        "#win = 30 -> sliding window size (monthly = 30 days, often used for “last 30 days” in monthly data).\n",
        "def make_sequence(arr,win=30):\n",
        "  X,y = [],[]#We create an empty list first for X to hold the input values , y to hold the target prediction.\n",
        "  for i in range(len(arr)-win):\n",
        "    X.append(arr[i:i+win]) # 0:29 -> [0,1,2,3,4,5,6,7,8,9,10...29],[1,2,3,....30],[2,3,4,....31],.........[368,340,341,......398]-> Input, the shape is (30,1)\n",
        "    y.append(arr[i+win])#0+30 -> [30],[31],[32],..........[399]-> Output, the shape is (1,)\n",
        "  X = np.array(X) # after the loop turns python list of 370 elements from 2D array (win(timesteps per window)), 1 (temp/feature)) into 3D array (samples, win, 1 (temp)). np.array(X) stacks them together and the shape becomes (370,30,1) --> 3D\n",
        "  y = np.array(y).flatten() # after the loop the shape becomes (270,1) and after flatten becomes (270,) --> 1D\n",
        "  return X,y"
      ],
      "metadata": {
        "id": "q7nf9jK2H3kL"
      },
      "execution_count": null,
      "outputs": []
    },
    {
      "cell_type": "markdown",
      "source": [
        "note: arr is 400,1 --> it's 2D array from Data Frame (df)"
      ],
      "metadata": {
        "id": "BJFUAjPjH1eV"
      }
    },
    {
      "cell_type": "markdown",
      "source": [
        "#Using the function created , we create the input features and the output labels with the time series data."
      ],
      "metadata": {
        "id": "KnT1nHZALHHp"
      }
    },
    {
      "cell_type": "code",
      "source": [
        "X,y = make_sequence(temp_scaled) # keep the array returned by the function"
      ],
      "metadata": {
        "id": "hwGAch1pLAqf"
      },
      "execution_count": null,
      "outputs": []
    },
    {
      "cell_type": "code",
      "source": [
        "print(type(X))"
      ],
      "metadata": {
        "colab": {
          "base_uri": "https://localhost:8080/"
        },
        "id": "t39vkM9v64HS",
        "outputId": "dddc5915-33f9-4a57-b146-3146bdf8c2b8"
      },
      "execution_count": null,
      "outputs": [
        {
          "output_type": "stream",
          "name": "stdout",
          "text": [
            "<class 'numpy.ndarray'>\n"
          ]
        }
      ]
    },
    {
      "cell_type": "code",
      "source": [
        "print(type(y))"
      ],
      "metadata": {
        "colab": {
          "base_uri": "https://localhost:8080/"
        },
        "id": "lBjo33GM7PrS",
        "outputId": "178ff61d-1fe5-4922-b920-a8091e1f6f1e"
      },
      "execution_count": null,
      "outputs": [
        {
          "output_type": "stream",
          "name": "stdout",
          "text": [
            "<class 'numpy.ndarray'>\n"
          ]
        }
      ]
    },
    {
      "cell_type": "markdown",
      "source": [
        "X and y converted from python list to Numpy array"
      ],
      "metadata": {
        "id": "xPltL4ST8h36"
      }
    },
    {
      "cell_type": "code",
      "source": [
        "len(X[0])#Mean you have 30 sequence of data"
      ],
      "metadata": {
        "colab": {
          "base_uri": "https://localhost:8080/"
        },
        "id": "dTXcvjNoLNWy",
        "outputId": "58b687be-a9bf-4528-a2b7-d2c3a655ef8f"
      },
      "execution_count": null,
      "outputs": [
        {
          "output_type": "execute_result",
          "data": {
            "text/plain": [
              "30"
            ]
          },
          "metadata": {},
          "execution_count": 235
        }
      ]
    },
    {
      "cell_type": "code",
      "source": [
        "X[0].shape # 2 dimensional 30 rows/timesteps per window, 1 feature (temp)"
      ],
      "metadata": {
        "colab": {
          "base_uri": "https://localhost:8080/"
        },
        "id": "2gx0AUFLwIre",
        "outputId": "544cb35a-332a-45aa-af02-343c6f82c254"
      },
      "execution_count": null,
      "outputs": [
        {
          "output_type": "execute_result",
          "data": {
            "text/plain": [
              "(30, 1)"
            ]
          },
          "metadata": {},
          "execution_count": 236
        }
      ]
    },
    {
      "cell_type": "code",
      "source": [
        "X[1].shape # 2 dimensional 30 rows/timesteps per window, 1 feature (temp)"
      ],
      "metadata": {
        "colab": {
          "base_uri": "https://localhost:8080/"
        },
        "id": "KIl3hyCx1HPF",
        "outputId": "4df24895-5448-435c-e565-b37be886ecf7"
      },
      "execution_count": null,
      "outputs": [
        {
          "output_type": "execute_result",
          "data": {
            "text/plain": [
              "(30, 1)"
            ]
          },
          "metadata": {},
          "execution_count": 237
        }
      ]
    },
    {
      "cell_type": "code",
      "source": [
        "X[2].shape # 2 dimensional 30 rows/timesteps per window, 1 feature (temp)"
      ],
      "metadata": {
        "colab": {
          "base_uri": "https://localhost:8080/"
        },
        "id": "7eNeGTNa1LJt",
        "outputId": "f8dac24c-46ab-4c8e-bd22-039aa114cc77"
      },
      "execution_count": null,
      "outputs": [
        {
          "output_type": "execute_result",
          "data": {
            "text/plain": [
              "(30, 1)"
            ]
          },
          "metadata": {},
          "execution_count": 238
        }
      ]
    },
    {
      "cell_type": "code",
      "source": [
        "print(X.shape) # 3 dimensional array 370 (samples), 30 timesteps / window, 1 feature per timestep"
      ],
      "metadata": {
        "colab": {
          "base_uri": "https://localhost:8080/"
        },
        "id": "9M4DAgT7vXh7",
        "outputId": "50cdc3b3-d6fa-40f6-fd70-c8a5dfcfa53a"
      },
      "execution_count": null,
      "outputs": [
        {
          "output_type": "stream",
          "name": "stdout",
          "text": [
            "(370, 30, 1)\n"
          ]
        }
      ]
    },
    {
      "cell_type": "markdown",
      "source": [
        "X is 3D numpy array, RNN only accepts 3D input"
      ],
      "metadata": {
        "id": "WeQcRe09vdXd"
      }
    },
    {
      "cell_type": "code",
      "source": [
        "X.shape[0]"
      ],
      "metadata": {
        "colab": {
          "base_uri": "https://localhost:8080/"
        },
        "id": "1bzqQaXB8JW-",
        "outputId": "a0bab87f-b366-4c1b-f9f9-11d54686ca55"
      },
      "execution_count": null,
      "outputs": [
        {
          "output_type": "execute_result",
          "data": {
            "text/plain": [
              "370"
            ]
          },
          "metadata": {},
          "execution_count": 240
        }
      ]
    },
    {
      "cell_type": "code",
      "source": [
        "X.shape[1]"
      ],
      "metadata": {
        "colab": {
          "base_uri": "https://localhost:8080/"
        },
        "id": "5pgofFpK8Ol-",
        "outputId": "7ac2919e-e288-4cb5-8373-3c3ebe1320e2"
      },
      "execution_count": null,
      "outputs": [
        {
          "output_type": "execute_result",
          "data": {
            "text/plain": [
              "30"
            ]
          },
          "metadata": {},
          "execution_count": 241
        }
      ]
    },
    {
      "cell_type": "code",
      "source": [
        "X.shape[2]"
      ],
      "metadata": {
        "colab": {
          "base_uri": "https://localhost:8080/"
        },
        "id": "TscEs1oo8Rra",
        "outputId": "64faf7b7-822f-48b6-a12a-53c60e8a8ede"
      },
      "execution_count": null,
      "outputs": [
        {
          "output_type": "execute_result",
          "data": {
            "text/plain": [
              "1"
            ]
          },
          "metadata": {},
          "execution_count": 242
        }
      ]
    },
    {
      "cell_type": "code",
      "source": [
        "y"
      ],
      "metadata": {
        "colab": {
          "base_uri": "https://localhost:8080/"
        },
        "id": "hUdDaGM9LOgj",
        "outputId": "35d9d195-5429-4b28-a0b2-81616830abf9"
      },
      "execution_count": null,
      "outputs": [
        {
          "output_type": "execute_result",
          "data": {
            "text/plain": [
              "array([0.50818071, 0.7661923 , 0.67681356, 0.64766794, 0.84417783,\n",
              "       0.71790407, 0.85742189, 0.69740099, 0.74778678, 0.85646423,\n",
              "       0.87423644, 0.79222078, 0.72283464, 0.65386558, 0.50042944,\n",
              "       0.49875457, 0.45722706, 0.51883791, 0.40773613, 0.19316168,\n",
              "       0.32292509, 0.24089886, 0.20460782, 0.30742442, 0.35388732,\n",
              "       0.37137296, 0.26687303, 0.3556471 , 0.460922  , 0.57181945,\n",
              "       0.51795751, 0.60358633, 0.58961659, 0.63661744, 0.84337842,\n",
              "       0.92352827, 0.83501112, 0.93383346, 0.88261683, 0.78928299,\n",
              "       0.84415014, 0.90126655, 0.72920362, 0.80273262, 0.40937182,\n",
              "       0.62176976, 0.50092664, 0.41063302, 0.38764054, 0.17524665,\n",
              "       0.27953909, 0.30011822, 0.3765395 , 0.21726656, 0.20711509,\n",
              "       0.25703165, 0.40687324, 0.40654988, 0.39222136, 0.53493455,\n",
              "       0.56393635, 0.69568766, 0.62187403, 0.70591816, 0.74726128,\n",
              "       0.69854145, 0.86438406, 0.87459154, 0.85417008, 0.82203919,\n",
              "       0.70238285, 0.74498431, 0.70471714, 0.6138772 , 0.60553106,\n",
              "       0.58842959, 0.64447902, 0.44842014, 0.40086881, 0.32789377,\n",
              "       0.14396881, 0.26950886, 0.26342482, 0.45515992, 0.256276  ,\n",
              "       0.32112691, 0.33106413, 0.28707077, 0.52567592, 0.55397755,\n",
              "       0.61930662, 0.5458404 , 0.78981874, 0.62020917, 0.82537242,\n",
              "       0.99008991, 0.76172238, 0.80857747, 0.86171321, 0.80058471,\n",
              "       0.69158791, 0.784018  , 0.64730148, 0.7156782 , 0.54503957,\n",
              "       0.67985906, 0.43148581, 0.40879354, 0.44522913, 0.23562373,\n",
              "       0.31521551, 0.37592064, 0.13035881, 0.27335092, 0.2923603 ,\n",
              "       0.35944785, 0.2351381 , 0.27496043, 0.47613612, 0.51767745,\n",
              "       0.57617728, 0.64604289, 0.62363167, 0.75059356, 0.8019315 ,\n",
              "       0.75831682, 0.98962598, 0.89156897, 0.75870857, 0.89314285,\n",
              "       0.73754521, 0.84134847, 0.82450591, 0.61240867, 0.69526726,\n",
              "       0.58912616, 0.55957296, 0.58583482, 0.36073961, 0.27369354,\n",
              "       0.22609269, 0.20653129, 0.25246718, 0.28583943, 0.2937014 ,\n",
              "       0.36306713, 0.33487118, 0.49629575, 0.41337383, 0.71102212,\n",
              "       0.60611226, 0.55000779, 0.59244452, 0.77055839, 0.76071741,\n",
              "       0.8722843 , 0.87851616, 0.84795109, 0.78619683, 0.71988788,\n",
              "       0.77968736, 0.84687902, 0.74914459, 0.57849363, 0.63221798,\n",
              "       0.58693486, 0.42345866, 0.44675631, 0.38496344, 0.24263674,\n",
              "       0.32561427, 0.3163691 , 0.34503519, 0.34270142, 0.16170084,\n",
              "       0.22223801, 0.37492817, 0.42131372, 0.47558606, 0.80138869,\n",
              "       0.60174164, 0.70900617, 0.75400981, 0.78403634, 0.75339222,\n",
              "       0.87587233, 0.77909344, 0.83486644, 0.81503516, 0.84728947,\n",
              "       1.        , 0.62955925, 0.78681851, 0.54921271, 0.58074476,\n",
              "       0.6430774 , 0.49911007, 0.34849795, 0.32324528, 0.38805853,\n",
              "       0.23879101, 0.28889551, 0.26225524, 0.20662822, 0.4426886 ,\n",
              "       0.34764667, 0.17224866, 0.39519609, 0.38168706, 0.56199642,\n",
              "       0.49295575, 0.6092452 , 0.71818318, 0.80114033, 0.68277635,\n",
              "       0.78862488, 0.80286113, 0.80163327, 0.99462678, 0.87307006,\n",
              "       0.71470927, 0.85178313, 0.90138793, 0.76027038, 0.4971702 ,\n",
              "       0.51755379, 0.5950674 , 0.37802607, 0.41573113, 0.39564143,\n",
              "       0.22310728, 0.26687489, 0.        , 0.17688371, 0.2514721 ,\n",
              "       0.19750661, 0.46408304, 0.26620874, 0.39937974, 0.50441292,\n",
              "       0.67118905, 0.50383325, 0.77069874, 0.73287865, 0.70023331,\n",
              "       0.85218557, 0.85663965, 0.80587107, 0.85933155, 0.8100128 ,\n",
              "       0.82437205, 0.83137846, 0.85860964, 0.57912582, 0.78859362,\n",
              "       0.40043448, 0.48187034, 0.4814322 , 0.4027392 , 0.28414889,\n",
              "       0.28046063, 0.23228809, 0.21159397, 0.3264084 , 0.30011047,\n",
              "       0.24177969, 0.40561239, 0.40483827, 0.49934852, 0.54421896,\n",
              "       0.49004549, 0.5737034 , 0.73751667, 0.78076329, 0.77687966,\n",
              "       0.82467606, 0.94270101, 0.80656089, 0.8974147 , 0.82462392,\n",
              "       0.79794589, 0.86621824, 0.79792171, 0.74280002, 0.72256346,\n",
              "       0.55786647, 0.54839388, 0.40973463, 0.40618407, 0.32344972,\n",
              "       0.30480585, 0.31911166, 0.19333367, 0.42556961, 0.19135477,\n",
              "       0.2001871 , 0.42623885, 0.44348536, 0.48428887, 0.54411657,\n",
              "       0.55521342, 0.54680849, 0.6839389 , 0.67803177, 0.8563517 ,\n",
              "       0.80358093, 0.77489077, 0.82811886, 0.88670967, 0.79577748,\n",
              "       0.74971001, 0.79799107, 0.75160792, 0.63744176, 0.58081605,\n",
              "       0.57470573, 0.37843928, 0.32218984, 0.3229947 , 0.31680293,\n",
              "       0.32187375, 0.38934231, 0.32705131, 0.24585767, 0.27010709,\n",
              "       0.21707528, 0.33235661, 0.35728707, 0.46024021, 0.42797686,\n",
              "       0.59762897, 0.74069642, 0.66921258, 0.76411453, 0.83361363,\n",
              "       0.78330138, 0.858637  , 0.85476682, 0.8615556 , 0.77907871,\n",
              "       0.81727022, 0.81828242, 0.84784817, 0.75443023, 0.7902013 ,\n",
              "       0.49496431, 0.56358322, 0.44911943, 0.55504227, 0.26934006,\n",
              "       0.23006561, 0.22379915, 0.08915452, 0.21666935, 0.21105357,\n",
              "       0.30906644, 0.3611023 , 0.53001772, 0.5103245 , 0.44795035,\n",
              "       0.48450653, 0.65764994, 0.57254976, 0.87819333, 0.87265432,\n",
              "       0.77787928, 0.70406664, 0.96178687, 0.844623  , 0.93952151])"
            ]
          },
          "metadata": {},
          "execution_count": 243
        }
      ]
    },
    {
      "cell_type": "code",
      "source": [
        "len(y)"
      ],
      "metadata": {
        "colab": {
          "base_uri": "https://localhost:8080/"
        },
        "id": "Q2Qgok5ou-69",
        "outputId": "bc0066aa-85b2-4a60-fc4d-621b13f8a617"
      },
      "execution_count": null,
      "outputs": [
        {
          "output_type": "execute_result",
          "data": {
            "text/plain": [
              "370"
            ]
          },
          "metadata": {},
          "execution_count": 244
        }
      ]
    },
    {
      "cell_type": "code",
      "source": [
        "print(y.shape)"
      ],
      "metadata": {
        "colab": {
          "base_uri": "https://localhost:8080/"
        },
        "id": "NIFoTSS42Y7m",
        "outputId": "67bda9f0-c519-41f7-e24d-739f1bf4116a"
      },
      "execution_count": null,
      "outputs": [
        {
          "output_type": "stream",
          "name": "stdout",
          "text": [
            "(370,)\n"
          ]
        }
      ]
    },
    {
      "cell_type": "markdown",
      "source": [
        "y is 1D numpy array because it was flatten in funtion \"make_sequence\""
      ],
      "metadata": {
        "id": "f5pQJQ4kvq8D"
      }
    },
    {
      "cell_type": "markdown",
      "source": [
        "We have total 370 y outputs (labels / target value) because ( 400 days - 30 Window size = 370 number of sequence )"
      ],
      "metadata": {
        "id": "ChQKinc820Uj"
      }
    },
    {
      "cell_type": "markdown",
      "source": [
        "#Train validation split"
      ],
      "metadata": {
        "id": "AELhTlQ0LzxL"
      }
    },
    {
      "cell_type": "code",
      "source": [
        "X_train, X_test, y_train, y_test = train_test_split(\n",
        "    X, y, test_size=0.2, shuffle=False  # no shuffle for time-series\n",
        ")"
      ],
      "metadata": {
        "id": "LICpksBXL0be"
      },
      "execution_count": null,
      "outputs": []
    },
    {
      "cell_type": "markdown",
      "source": [
        "#Build the RNN Model"
      ],
      "metadata": {
        "id": "xFQh-1uwL4z3"
      }
    },
    {
      "cell_type": "code",
      "source": [
        "model = Sequential([\n",
        "    SimpleRNN(32,input_shape = (30,1)),\n",
        "    Dense(1)\n",
        "])\n",
        "#Sequential :  This line initializes a Sequential model, which means layers are added one after another in a linear stack.\n",
        "#32 is the number of unit(neurons in this layer. This will deterimine the dimension of the output space of the layer\n",
        "#input_shape = (30,1)-> Specifies the shape of the input data that the first layer expects."
      ],
      "metadata": {
        "colab": {
          "base_uri": "https://localhost:8080/"
        },
        "id": "FsjpbnqqL5HR",
        "outputId": "eb8721e6-d6b0-4513-8601-504a7c65661d"
      },
      "execution_count": null,
      "outputs": [
        {
          "output_type": "stream",
          "name": "stderr",
          "text": [
            "/usr/local/lib/python3.12/dist-packages/keras/src/layers/rnn/rnn.py:199: UserWarning: Do not pass an `input_shape`/`input_dim` argument to a layer. When using Sequential models, prefer using an `Input(shape)` object as the first layer in the model instead.\n",
            "  super().__init__(**kwargs)\n"
          ]
        }
      ]
    },
    {
      "cell_type": "markdown",
      "source": [
        "#Compile the function"
      ],
      "metadata": {
        "id": "DFZ8C7aoNEU9"
      }
    },
    {
      "cell_type": "code",
      "source": [
        "optimizer=tf.keras.optimizers.Adam(learning_rate=0.001)\n",
        "model.compile(optimizer = optimizer,loss = 'mse')"
      ],
      "metadata": {
        "id": "9peATz8SNGOa"
      },
      "execution_count": null,
      "outputs": []
    },
    {
      "cell_type": "markdown",
      "source": [
        "Train the model"
      ],
      "metadata": {
        "id": "BvxMXKRfNRQc"
      }
    },
    {
      "cell_type": "code",
      "source": [
        "history = model.fit(X_train,y_train,epochs=20,batch_size=32,validation_data=(X_test,y_test),verbose=0,shuffle=False)\n",
        "\n",
        "#Validation data ->After each epoch, the model will evaluate itself on (X_test,y_test.)This will help you to monitor the overfitting."
      ],
      "metadata": {
        "id": "mpoNCSF4NNGf"
      },
      "execution_count": null,
      "outputs": []
    },
    {
      "cell_type": "code",
      "source": [
        "history.history"
      ],
      "metadata": {
        "colab": {
          "base_uri": "https://localhost:8080/"
        },
        "id": "RJ2j5EllN-A_",
        "outputId": "e26b75fa-c1cf-4a62-e33b-89195dc1013f"
      },
      "execution_count": null,
      "outputs": [
        {
          "output_type": "execute_result",
          "data": {
            "text/plain": [
              "{'loss': [0.09908302873373032,\n",
              "  0.05023373290896416,\n",
              "  0.04210851714015007,\n",
              "  0.02968996949493885,\n",
              "  0.023614956066012383,\n",
              "  0.018346339464187622,\n",
              "  0.014466682448983192,\n",
              "  0.012509791180491447,\n",
              "  0.011428052559494972,\n",
              "  0.010727343149483204,\n",
              "  0.010151827707886696,\n",
              "  0.009710884653031826,\n",
              "  0.009420961141586304,\n",
              "  0.009168789722025394,\n",
              "  0.008934887126088142,\n",
              "  0.008729036897420883,\n",
              "  0.008541248738765717,\n",
              "  0.008375846780836582,\n",
              "  0.008234047330915928,\n",
              "  0.008107372559607029],\n",
              " 'val_loss': [0.05555056408047676,\n",
              "  0.05133325606584549,\n",
              "  0.031161321327090263,\n",
              "  0.0245294701308012,\n",
              "  0.019614674150943756,\n",
              "  0.01417097169905901,\n",
              "  0.011922011151909828,\n",
              "  0.010566003620624542,\n",
              "  0.010171040892601013,\n",
              "  0.009542787447571754,\n",
              "  0.009007556363940239,\n",
              "  0.008703001774847507,\n",
              "  0.008494343608617783,\n",
              "  0.008249124512076378,\n",
              "  0.008004020899534225,\n",
              "  0.0077998703345656395,\n",
              "  0.007611799985170364,\n",
              "  0.007451261393725872,\n",
              "  0.007317574229091406,\n",
              "  0.007202002685517073]}"
            ]
          },
          "metadata": {},
          "execution_count": 250
        }
      ]
    },
    {
      "cell_type": "markdown",
      "source": [
        "#Evaluate the model"
      ],
      "metadata": {
        "id": "rq1h_UdON9lq"
      }
    },
    {
      "cell_type": "code",
      "source": [
        "print(f\"Final val MSE: {history.history['val_loss'][-1]:.4f}\")"
      ],
      "metadata": {
        "colab": {
          "base_uri": "https://localhost:8080/"
        },
        "id": "MaIA0VcWNiE4",
        "outputId": "84777824-9b6e-4aa0-f995-be1f9c58243f"
      },
      "execution_count": null,
      "outputs": [
        {
          "output_type": "stream",
          "name": "stdout",
          "text": [
            "Final val MSE: 0.0072\n"
          ]
        }
      ]
    },
    {
      "cell_type": "markdown",
      "source": [
        "MSE value near to zero indicates Predictions are very accurate (errors are very small)"
      ],
      "metadata": {
        "id": "t-hRJ0huZBQw"
      }
    },
    {
      "cell_type": "markdown",
      "source": [
        "# Plot training and validation loss / metrics"
      ],
      "metadata": {
        "id": "jLiCJoFCqUws"
      }
    },
    {
      "cell_type": "code",
      "source": [
        "plt.plot(history.history['loss'], label='train')\n",
        "plt.plot(history.history['val_loss'], label='val')\n",
        "plt.legend()\n",
        "plt.show()"
      ],
      "metadata": {
        "colab": {
          "base_uri": "https://localhost:8080/",
          "height": 430
        },
        "id": "QECDJgBKqkPf",
        "outputId": "8a638868-4626-49ae-950b-a9d4db31236a"
      },
      "execution_count": null,
      "outputs": [
        {
          "output_type": "display_data",
          "data": {
            "text/plain": [
              "<Figure size 640x480 with 1 Axes>"
            ],
            "image/png": "[encoded data removed]"
          },
          "metadata": {}
        }
      ]
    },
    {
      "cell_type": "markdown",
      "source": [
        "It is normal for the plot looks different in the beginning because at the beginning the model is untrained, so it has no knowledge of patterns in either train set or val set. As training progresses Training loss decreases and Validation loss decreases. Eventually, if model is stable, train and val curves converge."
      ],
      "metadata": {
        "id": "qb_D98qxzX-L"
      }
    },
    {
      "cell_type": "markdown",
      "source": [
        "#Create the forcast from the last window"
      ],
      "metadata": {
        "id": "sIH-WGtyOT2W"
      }
    },
    {
      "cell_type": "code",
      "source": [
        "def forcast_multi(last_window_scaled,d):\n",
        "  preds_scaled = []# store scaled predictions\n",
        "  w = last_window_scaled.copy()# start with the last input window\n",
        "\n",
        "  for _ in range(d):\n",
        "    x = w.reshape(1,30,1)# shape: (batch=1, timesteps=30, features=1)\n",
        "    next_scaled = float(model.predict(x,verbose=0)[0,0])\n",
        "    preds_scaled.append(next_scaled)# save prediction into the empty array created\n",
        "    w = np.append(w[1:],next_scaled) #slide window forward (drop oldest, add newest)\n",
        "  preds = scaler.inverse_transform(\n",
        "      np.array(preds_scaled).reshape(-1, 1)\n",
        "    ).flatten()\n",
        "  return preds"
      ],
      "metadata": {
        "id": "dYewhbrxOULu"
      },
      "execution_count": null,
      "outputs": []
    },
    {
      "cell_type": "code",
      "source": [
        "d = 50\n",
        "last_window_scaled = X_test[-1].flatten()\n",
        "future = forcast_multi(last_window_scaled,d) # future becomes preds ( the return of function forecast_multi)"
      ],
      "metadata": {
        "id": "mLgz8hPwObUF"
      },
      "execution_count": null,
      "outputs": []
    },
    {
      "cell_type": "code",
      "source": [
        "future#Future predicted values"
      ],
      "metadata": {
        "colab": {
          "base_uri": "https://localhost:8080/"
        },
        "id": "DpPU6pA2Qohe",
        "outputId": "4d9716aa-fc99-40ef-ce90-2609f7d51082"
      },
      "execution_count": null,
      "outputs": [
        {
          "output_type": "execute_result",
          "data": {
            "text/plain": [
              "array([30.35948847, 30.65176419, 29.78779062, 29.50346921, 29.28550382,\n",
              "       28.77556989, 27.88304687, 27.54738222, 27.04339341, 26.21633895,\n",
              "       25.90802433, 25.63618091, 25.15346045, 24.87889891, 25.06104346,\n",
              "       25.16275642, 25.15324262, 25.88467327, 26.47523944, 26.82053054,\n",
              "       27.51909034, 28.376566  , 28.67478803, 29.16551209, 30.10421493,\n",
              "       30.37427774, 30.52540901, 30.94358153, 31.12329034, 31.00543988,\n",
              "       30.93181023, 30.68420354, 30.20655299, 29.88446146, 29.46642819,\n",
              "       28.84936508, 28.36304009, 27.9033946 , 27.28381731, 26.73444143,\n",
              "       26.35878681, 25.93384027, 25.53605194, 25.36233725, 25.29532384,\n",
              "       25.2457899 , 25.40655149, 25.7877562 , 26.16364718, 26.64439967])"
            ]
          },
          "metadata": {},
          "execution_count": 255
        }
      ]
    },
    {
      "cell_type": "markdown",
      "source": [
        "#Plot the values"
      ],
      "metadata": {
        "id": "YwPw13IiQ7In"
      }
    },
    {
      "cell_type": "code",
      "source": [
        "plt.figure(figsize=(10,4))\n",
        "plt.plot(temp, label=\"Actual\", linewidth=2)\n",
        "plt.plot(np.arange(len(temp), len(temp)+d), future, \"--\", label=\"Forecast\")\n",
        "plt.title(\"SimpleRNN Time-Series Forecast with train_test_split\")\n",
        "plt.xlabel(\"Time step (days)\")\n",
        "plt.ylabel(\"Temperature (°C)\")\n",
        "plt.legend()\n",
        "plt.tight_layout()\n",
        "plt.show()"
      ],
      "metadata": {
        "colab": {
          "base_uri": "https://localhost:8080/",
          "height": 407
        },
        "id": "vWhiSQmXQrtL",
        "outputId": "a711ecd7-8694-409f-8404-57e0c14f17e1"
      },
      "execution_count": null,
      "outputs": [
        {
          "output_type": "display_data",
          "data": {
            "text/plain": [
              "<Figure size 1000x400 with 1 Axes>"
            ],
            "image/png": "[encoded data removed]"
          },
          "metadata": {}
        }
      ]
    },
    {
      "cell_type": "code",
      "source": [
        "# length of real + predicted\n",
        "n_real = len(temp)        # 400\n",
        "n_pred = len(future)      # 50\n",
        "\n",
        "# create full index (day numbers)\n",
        "days = np.arange(1, n_real + n_pred + 1)  # 1 to 450\n",
        "\n",
        "# build DataFrame\n",
        "df = pd.DataFrame({\n",
        "    \"Day\": days,\n",
        "    \"Temperature\": np.concatenate([temp, future]),\n",
        "    \"Type\": [\"Real\"] * n_real + [\"Predicted\"] * n_pred\n",
        "})\n",
        "\n",
        "print(df.to_string())"
      ],
      "metadata": {
        "colab": {
          "base_uri": "https://localhost:8080/"
        },
        "id": "AWBGJgCGpLCM",
        "outputId": "813333f2-a486-415d-fcc0-96508c6e547b"
      },
      "execution_count": null,
      "outputs": [
        {
          "output_type": "stream",
          "name": "stdout",
          "text": [
            "     Day  Temperature       Type\n",
            "0      1    28.397371       Real\n",
            "1      2    28.513124       Real\n",
            "2      3    29.738361       Real\n",
            "3      4    30.981780       Real\n",
            "4      5    30.042112       Real\n",
            "5      6    30.410767       Real\n",
            "6      7    32.116540       Real\n",
            "7      8    31.597513       Real\n",
            "8      9    30.607986       Real\n",
            "9     10    31.287218       Real\n",
            "10    11    30.227342       Real\n",
            "11    12    29.856851       Real\n",
            "12    13    29.956926       Real\n",
            "13    14    27.689586       Real\n",
            "14    15    27.243801       Real\n",
            "15    16    27.550170       Real\n",
            "16    17    26.566000       Real\n",
            "17    18    27.031188       Real\n",
            "18    19    25.510225       Real\n",
            "19    20    24.640723       Real\n",
            "20    21    26.574443       Real\n",
            "21    22    24.966209       Real\n",
            "22    23    25.070457       Real\n",
            "23    24    23.876636       Real\n",
            "24    25    24.711324       Real\n",
            "25    26    25.490662       Real\n",
            "26    27    24.849771       Real\n",
            "27    28    26.537203       Real\n",
            "28    29    26.299279       Real\n",
            "29    30    27.142910       Real\n",
            "30    31    27.518635       Real\n",
            "31    32    30.105558       Real\n",
            "32    33    29.209412       Real\n",
            "33    34    28.917187       Real\n",
            "34    35    30.887470       Real\n",
            "35    36    29.621401       Real\n",
            "36    37    31.020260       Real\n",
            "37    38    29.415830       Real\n",
            "38    39    29.921017       Real\n",
            "39    40    31.010659       Real\n",
            "40    41    31.188849       Real\n",
            "41    42    30.366529       Real\n",
            "42    43    29.670837       Real\n",
            "43    44    28.979327       Real\n",
            "44    45    27.440917       Real\n",
            "45    46    27.424125       Real\n",
            "46    47    27.007754       Real\n",
            "47    48    27.625488       Real\n",
            "48    49    26.511539       Real\n",
            "49    50    24.360133       Real\n",
            "50    51    25.661191       Real\n",
            "51    52    24.838765       Real\n",
            "52    53    24.474897       Real\n",
            "53    54    25.505775       Real\n",
            "54    55    25.971630       Real\n",
            "55    56    26.146948       Real\n",
            "56    57    25.099192       Real\n",
            "57    58    25.989274       Real\n",
            "58    59    27.044801       Real\n",
            "59    60    28.156701       Real\n",
            "60    61    27.616661       Real\n",
            "61    62    28.475208       Real\n",
            "62    63    28.335142       Real\n",
            "63    64    28.806390       Real\n",
            "64    65    30.879455       Real\n",
            "65    66    31.683068       Real\n",
            "66    67    30.795561       Real\n",
            "67    68    31.786392       Real\n",
            "68    69    31.272875       Real\n",
            "69    70    30.337074       Real\n",
            "70    71    30.887193       Real\n",
            "71    72    31.459864       Real\n",
            "72    73    29.734695       Real\n",
            "73    74    30.471925       Real\n",
            "74    75    26.527939       Real\n",
            "75    76    28.657522       Real\n",
            "76    77    27.445903       Real\n",
            "77    78    26.540584       Real\n",
            "78    79    26.310053       Real\n",
            "79    80    24.180510       Real\n",
            "80    81    25.226186       Real\n",
            "81    82    25.432521       Real\n",
            "82    83    26.198750       Real\n",
            "83    84    24.601818       Real\n",
            "84    85    24.500036       Real\n",
            "85    86    25.000518       Real\n",
            "86    87    26.502887       Real\n",
            "87    88    26.499645       Real\n",
            "88    89    26.355982       Real\n",
            "89    90    27.786879       Real\n",
            "90    91    28.077662       Real\n",
            "91    92    29.398651       Real\n",
            "92    93    28.658567       Real\n",
            "93    94    29.501226       Real\n",
            "94    95    29.915748       Real\n",
            "95    96    29.427264       Real\n",
            "96    97    31.090066       Real\n",
            "97    98    31.192410       Real\n",
            "98    99    30.987656       Real\n",
            "99   100    30.665500       Real\n",
            "100  101    29.465780       Real\n",
            "101  102    29.892918       Real\n",
            "102  103    29.489184       Real\n",
            "103  104    28.578388       Real\n",
            "104  105    28.494707       Real\n",
            "105  106    28.323241       Real\n",
            "106  107    28.885214       Real\n",
            "107  108    26.919452       Real\n",
            "108  109    26.442685       Real\n",
            "109  110    25.711009       Real\n",
            "110  111    23.866907       Real\n",
            "111  112    25.125619       Real\n",
            "112  113    25.064618       Real\n",
            "113  114    26.987028       Real\n",
            "114  115    24.992942       Real\n",
            "115  116    25.643162       Real\n",
            "116  117    25.742796       Real\n",
            "117  118    25.301702       Real\n",
            "118  119    27.694048       Real\n",
            "119  120    27.977811       Real\n",
            "120  121    28.632826       Real\n",
            "121  122    27.896225       Real\n",
            "122  123    30.342445       Real\n",
            "123  124    28.641875       Real\n",
            "124  125    30.698920       Real\n",
            "125  126    32.350441       Real\n",
            "126  127    30.060740       Real\n",
            "127  128    30.530528       Real\n",
            "128  129    31.063287       Real\n",
            "129  130    30.450389       Real\n",
            "130  131    29.357545       Real\n",
            "131  132    30.284285       Real\n",
            "132  133    28.913513       Real\n",
            "133  134    29.599084       Real\n",
            "134  135    27.888196       Real\n",
            "135  136    29.239948       Real\n",
            "136  137    26.749662       Real\n",
            "137  138    26.522141       Real\n",
            "138  139    26.887458       Real\n",
            "139  140    24.785874       Real\n",
            "140  141    25.583892       Real\n",
            "141  142    26.192545       Real\n",
            "142  143    23.730448       Real\n",
            "143  144    25.164141       Real\n",
            "144  145    25.354737       Real\n",
            "145  146    26.027382       Real\n",
            "146  147    24.781005       Real\n",
            "147  148    25.180279       Real\n",
            "148  149    27.197343       Real\n",
            "149  150    27.613853       Real\n",
            "150  151    28.200394       Real\n",
            "151  152    28.900894       Real\n",
            "152  153    28.676190       Real\n",
            "153  154    29.949159       Real\n",
            "154  155    30.463892       Real\n",
            "155  156    30.026595       Real\n",
            "156  157    32.345789       Real\n",
            "157  158    31.362632       Real\n",
            "158  159    30.030523       Real\n",
            "159  160    31.378412       Real\n",
            "160  161    29.818331       Real\n",
            "161  162    30.859102       Real\n",
            "162  163    30.690232       Real\n",
            "163  164    28.563664       Real\n",
            "164  165    29.394436       Real\n",
            "165  166    28.330225       Real\n",
            "166  167    28.033913       Real\n",
            "167  168    28.297224       Real\n",
            "168  169    26.040334       Real\n",
            "169  170    25.167577       Real\n",
            "170  171    24.690312       Real\n",
            "171  172    24.494182       Real\n",
            "172  173    24.954753       Real\n",
            "173  174    25.289356       Real\n",
            "174  175    25.368183       Real\n",
            "175  176    26.063670       Real\n",
            "176  177    25.780967       Real\n",
            "177  178    27.399472       Real\n",
            "178  179    26.568065       Real\n",
            "179  180    29.552400       Real\n",
            "180  181    28.500534       Real\n",
            "181  182    27.938009       Real\n",
            "182  183    28.363496       Real\n",
            "183  184    30.149334       Real\n",
            "184  185    30.050664       Real\n",
            "185  186    31.169277       Real\n",
            "186  187    31.231760       Real\n",
            "187  188    30.925303       Real\n",
            "188  189    30.306131       Real\n",
            "189  190    29.641292       Real\n",
            "190  191    30.240864       Real\n",
            "191  192    30.914554       Real\n",
            "192  193    29.934631       Real\n",
            "193  194    28.223619       Real\n",
            "194  195    28.762280       Real\n",
            "195  196    28.308254       Real\n",
            "196  197    26.669179       Real\n",
            "197  198    26.902770       Real\n",
            "198  199    26.283211       Real\n",
            "199  200    24.856189       Real\n",
            "200  201    25.688154       Real\n",
            "201  202    25.595458       Real\n",
            "202  203    25.882875       Real\n",
            "203  204    25.859476       Real\n",
            "204  205    24.044695       Real\n",
            "205  206    24.651664       Real\n",
            "206  207    26.182594       Real\n",
            "207  208    26.647673       Real\n",
            "208  209    27.191828       Real\n",
            "209  210    30.458450       Real\n",
            "210  211    28.456712       Real\n",
            "211  212    29.532188       Real\n",
            "212  213    29.983411       Real\n",
            "213  214    30.284469       Real\n",
            "214  215    29.977219       Real\n",
            "215  216    31.205252       Real\n",
            "216  217    30.234909       Real\n",
            "217  218    30.794111       Real\n",
            "218  219    30.595275       Real\n",
            "219  220    30.918669       Real\n",
            "220  221    32.449803       Real\n",
            "221  222    28.735622       Real\n",
            "222  223    30.312364       Real\n",
            "223  224    27.930037       Real\n",
            "224  225    28.246190       Real\n",
            "225  226    28.871160       Real\n",
            "226  227    27.427689       Real\n",
            "227  228    25.917594       Real\n",
            "228  229    25.664401       Real\n",
            "229  230    26.314244       Real\n",
            "230  231    24.817630       Real\n",
            "231  232    25.319997       Real\n",
            "232  233    25.052892       Real\n",
            "233  234    24.495154       Real\n",
            "234  235    26.861986       Real\n",
            "235  236    25.909059       Real\n",
            "236  237    24.150451       Real\n",
            "237  238    26.385808       Real\n",
            "238  239    26.250361       Real\n",
            "239  240    28.058212       Real\n",
            "240  241    27.365983       Real\n",
            "241  242    28.531946       Real\n",
            "242  243    29.624200       Real\n",
            "243  244    30.455960       Real\n",
            "244  245    29.269197       Real\n",
            "245  246    30.330475       Real\n",
            "246  247    30.473213       Real\n",
            "247  248    30.460902       Real\n",
            "248  249    32.395929       Real\n",
            "249  250    31.177155       Real\n",
            "250  251    29.589369       Real\n",
            "251  252    30.963724       Real\n",
            "252  253    31.461081       Real\n",
            "253  254    30.046182       Real\n",
            "254  255    27.408239       Real\n",
            "255  256    27.612613       Real\n",
            "256  257    28.389794       Real\n",
            "257  258    26.213654       Real\n",
            "258  259    26.591700       Real\n",
            "259  260    26.390273       Real\n",
            "260  261    24.660379       Real\n",
            "261  262    25.099210       Real\n",
            "262  263    22.423420       Real\n",
            "263  264    24.196924       Real\n",
            "264  265    24.944776       Real\n",
            "265  266    24.403697       Real\n",
            "266  267    27.076495       Real\n",
            "267  268    25.092531       Real\n",
            "268  269    26.427754       Real\n",
            "269  270    27.480857       Real\n",
            "270  271    29.153019       Real\n",
            "271  272    27.475045       Real\n",
            "272  273    30.150741       Real\n",
            "273  274    29.771542       Real\n",
            "274  275    29.444228       Real\n",
            "275  276    30.967759       Real\n",
            "276  277    31.012417       Real\n",
            "277  278    30.503392       Real\n",
            "278  279    31.039407       Real\n",
            "279  280    30.544919       Real\n",
            "280  281    30.688890       Real\n",
            "281  282    30.759139       Real\n",
            "282  283    31.032169       Real\n",
            "283  284    28.229958       Real\n",
            "284  285    30.330162       Real\n",
            "285  286    26.438330       Real\n",
            "286  287    27.254837       Real\n",
            "287  288    27.250444       Real\n",
            "288  289    26.461438       Real\n",
            "289  290    25.272406       Real\n",
            "290  291    25.235426       Real\n",
            "291  292    24.752430       Real\n",
            "292  293    24.544943       Real\n",
            "293  294    25.696116       Real\n",
            "294  295    25.432443       Real\n",
            "295  296    24.847596       Real\n",
            "296  297    26.490245       Real\n",
            "297  298    26.482484       Real\n",
            "298  299    27.430080       Real\n",
            "299  300    27.879968       Real\n",
            "300  301    27.336804       Real\n",
            "301  302    28.175590       Real\n",
            "302  303    29.818045       Real\n",
            "303  304    30.251652       Real\n",
            "304  305    30.212713       Real\n",
            "305  306    30.691938       Real\n",
            "306  307    31.875301       Real\n",
            "307  308    30.510309       Real\n",
            "308  309    31.421244       Real\n",
            "309  310    30.691415       Real\n",
            "310  311    30.423931       Real\n",
            "311  312    31.108456       Real\n",
            "312  313    30.423689       Real\n",
            "313  314    29.871018       Real\n",
            "314  315    29.668118       Real\n",
            "315  316    28.016803       Real\n",
            "316  317    27.921827       Real\n",
            "317  318    26.531577       Real\n",
            "318  319    26.495977       Real\n",
            "319  320    25.666451       Real\n",
            "320  321    25.479521       Real\n",
            "321  322    25.622956       Real\n",
            "322  323    24.361858       Real\n",
            "323  324    26.690344       Real\n",
            "324  325    24.342017       Real\n",
            "325  326    24.430573       Real\n",
            "326  327    26.697054       Real\n",
            "327  328    26.869974       Real\n",
            "328  329    27.279086       Real\n",
            "329  330    27.878941       Real\n",
            "330  331    27.990203       Real\n",
            "331  332    27.905932       Real\n",
            "332  333    29.280854       Real\n",
            "333  334    29.221626       Real\n",
            "334  335    31.009530       Real\n",
            "335  336    30.480430       Real\n",
            "336  337    30.192772       Real\n",
            "337  338    30.726457       Real\n",
            "338  339    31.313911       Real\n",
            "339  340    30.402190       Real\n",
            "340  341    29.940300       Real\n",
            "341  342    30.424384       Real\n",
            "342  343    29.959329       Real\n",
            "343  344    28.814655       Real\n",
            "344  345    28.246904       Real\n",
            "345  346    28.185640       Real\n",
            "346  347    26.217797       Real\n",
            "347  348    25.653819       Real\n",
            "348  349    25.661889       Real\n",
            "349  350    25.599808       Real\n",
            "350  351    25.650650       Real\n",
            "351  352    26.327115       Real\n",
            "352  353    25.702562       Real\n",
            "353  354    24.888483       Real\n",
            "354  355    25.131617       Real\n",
            "355  356    24.599900       Real\n",
            "356  357    25.755755       Real\n",
            "357  358    26.005717       Real\n",
            "358  359    27.037965       Real\n",
            "359  360    26.714480       Real\n",
            "360  361    28.415477       Real\n",
            "361  362    29.849926       Real\n",
            "362  363    29.133202       Real\n",
            "363  364    30.084725       Real\n",
            "364  365    30.781550       Real\n",
            "365  366    30.277100       Real\n",
            "366  367    31.032444       Real\n",
            "367  368    30.993640       Real\n",
            "368  369    31.061707       Real\n",
            "369  370    30.234762       Real\n",
            "370  371    30.617684       Real\n",
            "371  372    30.627833       Real\n",
            "372  373    30.924271       Real\n",
            "373  374    29.987627       Real\n",
            "374  375    30.346281       Real\n",
            "375  376    27.386122       Real\n",
            "376  377    28.074121       Real\n",
            "377  378    26.926464       Real\n",
            "378  379    27.988487       Real\n",
            "379  380    25.123927       Real\n",
            "380  381    24.730146       Real\n",
            "381  382    24.667316       Real\n",
            "382  383    23.317318       Real\n",
            "383  384    24.595830       Real\n",
            "384  385    24.539524       Real\n",
            "385  386    25.522239       Real\n",
            "386  387    26.043970       Real\n",
            "387  388    27.737581       Real\n",
            "388  389    27.540129       Real\n",
            "389  390    26.914742       Real\n",
            "390  391    27.281268       Real\n",
            "391  392    29.017270       Real\n",
            "392  393    28.164023       Real\n",
            "393  394    31.228523       Real\n",
            "394  395    31.172987       Real\n",
            "395  396    30.222736       Real\n",
            "396  397    29.482662       Real\n",
            "397  398    32.066664       Real\n",
            "398  399    30.891934       Real\n",
            "399  400    31.843423       Real\n",
            "400  401    30.359488  Predicted\n",
            "401  402    30.651764  Predicted\n",
            "402  403    29.787791  Predicted\n",
            "403  404    29.503469  Predicted\n",
            "404  405    29.285504  Predicted\n",
            "405  406    28.775570  Predicted\n",
            "406  407    27.883047  Predicted\n",
            "407  408    27.547382  Predicted\n",
            "408  409    27.043393  Predicted\n",
            "409  410    26.216339  Predicted\n",
            "410  411    25.908024  Predicted\n",
            "411  412    25.636181  Predicted\n",
            "412  413    25.153460  Predicted\n",
            "413  414    24.878899  Predicted\n",
            "414  415    25.061043  Predicted\n",
            "415  416    25.162756  Predicted\n",
            "416  417    25.153243  Predicted\n",
            "417  418    25.884673  Predicted\n",
            "418  419    26.475239  Predicted\n",
            "419  420    26.820531  Predicted\n",
            "420  421    27.519090  Predicted\n",
            "421  422    28.376566  Predicted\n",
            "422  423    28.674788  Predicted\n",
            "423  424    29.165512  Predicted\n",
            "424  425    30.104215  Predicted\n",
            "425  426    30.374278  Predicted\n",
            "426  427    30.525409  Predicted\n",
            "427  428    30.943582  Predicted\n",
            "428  429    31.123290  Predicted\n",
            "429  430    31.005440  Predicted\n",
            "430  431    30.931810  Predicted\n",
            "431  432    30.684204  Predicted\n",
            "432  433    30.206553  Predicted\n",
            "433  434    29.884461  Predicted\n",
            "434  435    29.466428  Predicted\n",
            "435  436    28.849365  Predicted\n",
            "436  437    28.363040  Predicted\n",
            "437  438    27.903395  Predicted\n",
            "438  439    27.283817  Predicted\n",
            "439  440    26.734441  Predicted\n",
            "440  441    26.358787  Predicted\n",
            "441  442    25.933840  Predicted\n",
            "442  443    25.536052  Predicted\n",
            "443  444    25.362337  Predicted\n",
            "444  445    25.295324  Predicted\n",
            "445  446    25.245790  Predicted\n",
            "446  447    25.406551  Predicted\n",
            "447  448    25.787756  Predicted\n",
            "448  449    26.163647  Predicted\n",
            "449  450    26.644400  Predicted\n"
          ]
        }
      ]
    }
  ]
}